{
 "cells": [
  {
   "cell_type": "markdown",
   "metadata": {},
   "source": [
    "# Logistic function\n",
    "\n",
    "Logistic function implementation example:\n",
    "\n",
    "https://en.wikipedia.org/wiki/Logistic_function"
   ]
  },
  {
   "cell_type": "code",
   "execution_count": 1,
   "metadata": {
    "collapsed": true
   },
   "outputs": [],
   "source": [
    "import numpy as np\n",
    "import matplotlib.pyplot as plt"
   ]
  },
  {
   "cell_type": "code",
   "execution_count": 2,
   "metadata": {
    "collapsed": true
   },
   "outputs": [],
   "source": [
    "%matplotlib inline"
   ]
  },
  {
   "cell_type": "code",
   "execution_count": 3,
   "metadata": {
    "collapsed": true
   },
   "outputs": [],
   "source": [
    "class LogitFuncException(Exception):\n",
    "    pass"
   ]
  },
  {
   "cell_type": "code",
   "execution_count": 4,
   "metadata": {
    "collapsed": true
   },
   "outputs": [],
   "source": [
    "class LogitFunc(object):\n",
    "    \"\"\"\n",
    "    Logistic function implementation:\n",
    "    https://en.wikipedia.org/wiki/Logistic_function\n",
    "    \"\"\"\n",
    "\n",
    "    def compXVar(self, xstart, xstop, xsize=100):\n",
    "        if xstart >= xstop:\n",
    "            raise LogitFuncException(\"Error: xstart must be greater than xstop...\")\n",
    "        if xsize <= 1:\n",
    "            raise LogitFuncException(\"xsize must be greater than 1...\")\n",
    "\n",
    "        return np.linspace(xstart, xstop, xsize)\n",
    "\n",
    "    def compLogitFunc(self, x, l, x0, k=1):\n",
    "        \"\"\"\n",
    "        x: x values\n",
    "        x0: x-value of the sigmoid's midpoint\n",
    "        l: maximum value of the curve\n",
    "        k: steepness of the curve\n",
    "        \"\"\"\n",
    "        return(l / (1 + np.exp(-k * (x - x0))))"
   ]
  },
  {
   "cell_type": "code",
   "execution_count": 5,
   "metadata": {
    "collapsed": true
   },
   "outputs": [],
   "source": [
    "def runTest():\n",
    "\n",
    "    lf = LogitFunc()\n",
    "\n",
    "    xstart = -10\n",
    "    xstop = 10\n",
    "    xsize = 1000\n",
    "    x = lf.compXVar(xstart, xstop, xsize=xsize)\n",
    "\n",
    "    l = 2\n",
    "    x0 = 0\n",
    "    k = 1\n",
    "    y = lf.compLogitFunc(x, l, x0, k=k)\n",
    "\n",
    "    plt.axhline(y=l/2., color='red', linestyle='--')\n",
    "    plt.axvline(x=x0, color='red', linestyle='--')\n",
    "\n",
    "    plt.plot(x, y, linewidth=3)\n",
    "\n",
    "    ymarg = (l * 10.) / 100.\n",
    "    plt.ylim([0 - ymarg, l + ymarg])\n",
    "    plt.xlim([xstart, xstop])\n",
    "\n",
    "    plt.grid(True)\n",
    "    plt.title(\"Logistic function\")\n",
    "    plt.show()"
   ]
  },
  {
   "cell_type": "code",
   "execution_count": 6,
   "metadata": {
    "collapsed": false
   },
   "outputs": [
    {
     "data": {
      "image/png": "[encoded data removed]",
      "text/plain": [
       "<matplotlib.figure.Figure at 0x7f4dc78d9810>"
      ]
     },
     "metadata": {},
     "output_type": "display_data"
    }
   ],
   "source": [
    "runTest()"
   ]
  },
  {
   "cell_type": "code",
   "execution_count": null,
   "metadata": {
    "collapsed": true
   },
   "outputs": [],
   "source": []
  }
 ],
 "metadata": {
  "kernelspec": {
   "display_name": "Python 2",
   "language": "python",
   "name": "python2"
  },
  "language_info": {
   "codemirror_mode": {
    "name": "ipython",
    "version": 2
   },
   "file_extension": ".py",
   "mimetype": "text/x-python",
   "name": "python",
   "nbconvert_exporter": "python",
   "pygments_lexer": "ipython2",
   "version": "2.7.6"
  }
 },
 "nbformat": 4,
 "nbformat_minor": 0
}
