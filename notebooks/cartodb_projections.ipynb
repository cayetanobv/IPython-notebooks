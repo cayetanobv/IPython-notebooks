{
 "cells": [
  {
   "cell_type": "markdown",
   "metadata": {},
   "source": [
    "# Playing with map projections with CartoDB\n",
    "\n",
    "I'm just playing here with several map projections with CartoDB (and awesome http://jupyter.org/)."
   ]
  },
  {
   "cell_type": "code",
   "execution_count": 1,
   "metadata": {
    "collapsed": true
   },
   "outputs": [],
   "source": [
    "from IPython.display import HTML"
   ]
  },
  {
   "cell_type": "markdown",
   "metadata": {},
   "source": [
    "## Azimuthal Equidistant projection"
   ]
  },
  {
   "cell_type": "markdown",
   "metadata": {},
   "source": [
    "### Nort Pole Azimuthal Equidistant\n",
    "\n",
    "Well Known Text definition:\n",
    "\n",
    "```\n",
    "PROJCS[\"North_Pole_Azimuthal_Equidistant\",\n",
    "    GEOGCS[\"GCS_WGS_1984\",\n",
    "        DATUM[\"WGS_1984\",\n",
    "            SPHEROID[\"WGS_1984\",6378137,298.257223563]],\n",
    "        PRIMEM[\"Greenwich\",0],\n",
    "        UNIT[\"Degree\",0.017453292519943295]],\n",
    "    PROJECTION[\"Azimuthal_Equidistant\"],\n",
    "    PARAMETER[\"False_Easting\",0],\n",
    "    PARAMETER[\"False_Northing\",0],\n",
    "    PARAMETER[\"Central_Meridian\",0],\n",
    "    PARAMETER[\"Latitude_Of_Origin\",90],\n",
    "    UNIT[\"Meter\",1],\n",
    "    AUTHORITY[\"EPSG\",\"102016\"]]\n",
    "```"
   ]
  },
  {
   "cell_type": "code",
   "execution_count": 2,
   "metadata": {
    "collapsed": true
   },
   "outputs": [],
   "source": [
    "cb_webmap = '<iframe width=\"100%\" height=\"520\" frameborder=\"0\" src=\"https://cayetanobv.cartodb.com/viz/76c11034-bccb-11e5-b191-0e787de82d45/embed_map\" allowfullscreen webkitallowfullscreen mozallowfullscreen oallowfullscreen msallowfullscreen></iframe>'"
   ]
  },
  {
   "cell_type": "code",
   "execution_count": 3,
   "metadata": {
    "collapsed": false
   },
   "outputs": [
    {
     "data": {
      "text/html": [
       "<iframe width=\"100%\" height=\"520\" frameborder=\"0\" src=\"https://cayetanobv.cartodb.com/viz/76c11034-bccb-11e5-b191-0e787de82d45/embed_map\" allowfullscreen webkitallowfullscreen mozallowfullscreen oallowfullscreen msallowfullscreen></iframe>"
      ],
      "text/plain": [
       "<IPython.core.display.HTML object>"
      ]
     },
     "execution_count": 3,
     "metadata": {},
     "output_type": "execute_result"
    }
   ],
   "source": [
    "HTML(cb_webmap)"
   ]
  },
  {
   "cell_type": "markdown",
   "metadata": {},
   "source": [
    "## Lambert Conformal Conic projection"
   ]
  },
  {
   "cell_type": "markdown",
   "metadata": {},
   "source": [
    "### Lambert Conformal Conic - Europe centered \n",
    "\n",
    "Well Known Text definition:\n",
    "\n",
    "```\n",
    "PROJCS[\"ETRS89 / LCC Europe\",\n",
    "    GEOGCS[\"ETRS89\",\n",
    "        DATUM[\"European_Terrestrial_Reference_System_1989\",\n",
    "            SPHEROID[\"GRS 1980\",6378137,298.257222101,\n",
    "                AUTHORITY[\"EPSG\",\"7019\"]],\n",
    "            TOWGS84[0,0,0,0,0,0,0],\n",
    "            AUTHORITY[\"EPSG\",\"6258\"]],\n",
    "        PRIMEM[\"Greenwich\",0,\n",
    "            AUTHORITY[\"EPSG\",\"8901\"]],\n",
    "        UNIT[\"degree\",0.0174532925199433,\n",
    "            AUTHORITY[\"EPSG\",\"9122\"]],\n",
    "        AUTHORITY[\"EPSG\",\"4258\"]],\n",
    "    PROJECTION[\"Lambert_Conformal_Conic_2SP\"],\n",
    "    PARAMETER[\"standard_parallel_1\",35],\n",
    "    PARAMETER[\"standard_parallel_2\",65],\n",
    "    PARAMETER[\"latitude_of_origin\",52],\n",
    "    PARAMETER[\"central_meridian\",10],\n",
    "    PARAMETER[\"false_easting\",4000000],\n",
    "    PARAMETER[\"false_northing\",2800000],\n",
    "    UNIT[\"metre\",1,\n",
    "        AUTHORITY[\"EPSG\",\"9001\"]],\n",
    "    AUTHORITY[\"EPSG\",\"3034\"]]\n",
    "```"
   ]
  },
  {
   "cell_type": "code",
   "execution_count": 4,
   "metadata": {
    "collapsed": true
   },
   "outputs": [],
   "source": [
    "cb_webmap2 = '<iframe width=\"100%\" height=\"520\" frameborder=\"0\" src=\"https://cayetanobv.cartodb.com/viz/4b0f93b8-bcce-11e5-a505-0e787de82d45/embed_map\" allowfullscreen webkitallowfullscreen mozallowfullscreen oallowfullscreen msallowfullscreen></iframe>'"
   ]
  },
  {
   "cell_type": "code",
   "execution_count": 5,
   "metadata": {
    "collapsed": false,
    "scrolled": false
   },
   "outputs": [
    {
     "data": {
      "text/html": [
       "<iframe width=\"100%\" height=\"520\" frameborder=\"0\" src=\"https://cayetanobv.cartodb.com/viz/4b0f93b8-bcce-11e5-a505-0e787de82d45/embed_map\" allowfullscreen webkitallowfullscreen mozallowfullscreen oallowfullscreen msallowfullscreen></iframe>"
      ],
      "text/plain": [
       "<IPython.core.display.HTML object>"
      ]
     },
     "execution_count": 5,
     "metadata": {},
     "output_type": "execute_result"
    }
   ],
   "source": [
    "HTML(cb_webmap2)"
   ]
  },
  {
   "cell_type": "markdown",
   "metadata": {},
   "source": [
    "# Mollweide projection"
   ]
  },
  {
   "cell_type": "markdown",
   "metadata": {},
   "source": [
    "### World Mollweide\n",
    "\n",
    "Well Known Text definition:\n",
    "\n",
    "```\n",
    "PROJCS[\"World_Mollweide\",\n",
    "    GEOGCS[\"GCS_WGS_1984\",\n",
    "        DATUM[\"WGS_1984\",\n",
    "            SPHEROID[\"WGS_1984\",6378137,298.257223563]],\n",
    "        PRIMEM[\"Greenwich\",0],\n",
    "        UNIT[\"Degree\",0.017453292519943295]],\n",
    "    PROJECTION[\"Mollweide\"],\n",
    "    PARAMETER[\"False_Easting\",0],\n",
    "    PARAMETER[\"False_Northing\",0],\n",
    "    PARAMETER[\"Central_Meridian\",0],\n",
    "    UNIT[\"Meter\",1],\n",
    "    AUTHORITY[\"EPSG\",\"54009\"]]\n",
    "```"
   ]
  },
  {
   "cell_type": "code",
   "execution_count": 6,
   "metadata": {
    "collapsed": true
   },
   "outputs": [],
   "source": [
    "cb_webmap_mw = '<iframe width=\"100%\" height=\"520\" frameborder=\"0\" src=\"https://cayetanobv.cartodb.com/viz/60f6d4f8-bd77-11e5-90bf-0e787de82d45/embed_map\" allowfullscreen webkitallowfullscreen mozallowfullscreen oallowfullscreen msallowfullscreen></iframe>'"
   ]
  },
  {
   "cell_type": "code",
   "execution_count": 7,
   "metadata": {
    "collapsed": false
   },
   "outputs": [
    {
     "data": {
      "text/html": [
       "<iframe width=\"100%\" height=\"520\" frameborder=\"0\" src=\"https://cayetanobv.cartodb.com/viz/60f6d4f8-bd77-11e5-90bf-0e787de82d45/embed_map\" allowfullscreen webkitallowfullscreen mozallowfullscreen oallowfullscreen msallowfullscreen></iframe>"
      ],
      "text/plain": [
       "<IPython.core.display.HTML object>"
      ]
     },
     "execution_count": 7,
     "metadata": {},
     "output_type": "execute_result"
    }
   ],
   "source": [
    "HTML(cb_webmap_mw)"
   ]
  },
  {
   "cell_type": "markdown",
   "metadata": {},
   "source": [
    "## Robinson projection"
   ]
  },
  {
   "cell_type": "markdown",
   "metadata": {},
   "source": [
    "### World Robinson\n",
    "\n",
    "Well Known Text definition:\n",
    "\n",
    "```\n",
    "PROJCS[\"World_Robinson\",\n",
    "    GEOGCS[\"GCS_WGS_1984\",\n",
    "        DATUM[\"WGS_1984\",\n",
    "            SPHEROID[\"WGS_1984\",6378137,298.257223563]],\n",
    "        PRIMEM[\"Greenwich\",0],\n",
    "        UNIT[\"Degree\",0.017453292519943295]],\n",
    "    PROJECTION[\"Robinson\"],\n",
    "    PARAMETER[\"False_Easting\",0],\n",
    "    PARAMETER[\"False_Northing\",0],\n",
    "    PARAMETER[\"Central_Meridian\",0],\n",
    "    UNIT[\"Meter\",1],\n",
    "    AUTHORITY[\"EPSG\",\"54030\"]]\n",
    "```"
   ]
  },
  {
   "cell_type": "code",
   "execution_count": 15,
   "metadata": {
    "collapsed": true
   },
   "outputs": [],
   "source": [
    "cb_webmap_rb = '<iframe width=\"100%\" height=\"520\" frameborder=\"0\" src=\"https://cayetanobv.cartodb.com/viz/54c5f424-bd7d-11e5-8d6b-0ecfd53eb7d3/embed_map\" allowfullscreen webkitallowfullscreen mozallowfullscreen oallowfullscreen msallowfullscreen></iframe>'"
   ]
  },
  {
   "cell_type": "code",
   "execution_count": 16,
   "metadata": {
    "collapsed": false
   },
   "outputs": [
    {
     "data": {
      "text/html": [
       "<iframe width=\"100%\" height=\"520\" frameborder=\"0\" src=\"https://cayetanobv.cartodb.com/viz/54c5f424-bd7d-11e5-8d6b-0ecfd53eb7d3/embed_map\" allowfullscreen webkitallowfullscreen mozallowfullscreen oallowfullscreen msallowfullscreen></iframe>"
      ],
      "text/plain": [
       "<IPython.core.display.HTML object>"
      ]
     },
     "execution_count": 16,
     "metadata": {},
     "output_type": "execute_result"
    }
   ],
   "source": [
    "HTML(cb_webmap_rb)"
   ]
  },
  {
   "cell_type": "markdown",
   "metadata": {
    "collapsed": true
   },
   "source": [
    "## Eckert projection"
   ]
  },
  {
   "cell_type": "markdown",
   "metadata": {},
   "source": [
    "### World Eckert I\n",
    "```\n",
    "PROJCS[\"World_Eckert_I\",\n",
    "    GEOGCS[\"GCS_WGS_1984\",\n",
    "        DATUM[\"WGS_1984\",\n",
    "            SPHEROID[\"WGS_1984\",6378137,298.257223563]],\n",
    "        PRIMEM[\"Greenwich\",0],\n",
    "        UNIT[\"Degree\",0.017453292519943295]],\n",
    "    PROJECTION[\"Eckert_I\"],\n",
    "    PARAMETER[\"False_Easting\",0],\n",
    "    PARAMETER[\"False_Northing\",0],\n",
    "    PARAMETER[\"Central_Meridian\",0],\n",
    "    UNIT[\"Meter\",1],\n",
    "    AUTHORITY[\"EPSG\",\"54015\"]]\n",
    "```"
   ]
  },
  {
   "cell_type": "code",
   "execution_count": 13,
   "metadata": {
    "collapsed": true
   },
   "outputs": [],
   "source": [
    "cb_webmap_ek = '<iframe width=\"100%\" height=\"520\" frameborder=\"0\" src=\"https://cayetanobv.cartodb.com/viz/b24506e8-be00-11e5-8d50-0ea31932ec1d/embed_map\" allowfullscreen webkitallowfullscreen mozallowfullscreen oallowfullscreen msallowfullscreen></iframe>'"
   ]
  },
  {
   "cell_type": "code",
   "execution_count": 14,
   "metadata": {
    "collapsed": false
   },
   "outputs": [
    {
     "data": {
      "text/html": [
       "<iframe width=\"100%\" height=\"520\" frameborder=\"0\" src=\"https://cayetanobv.cartodb.com/viz/b24506e8-be00-11e5-8d50-0ea31932ec1d/embed_map\" allowfullscreen webkitallowfullscreen mozallowfullscreen oallowfullscreen msallowfullscreen></iframe>"
      ],
      "text/plain": [
       "<IPython.core.display.HTML object>"
      ]
     },
     "execution_count": 14,
     "metadata": {},
     "output_type": "execute_result"
    }
   ],
   "source": [
    "HTML(cb_webmap_ek)"
   ]
  },
  {
   "cell_type": "code",
   "execution_count": null,
   "metadata": {
    "collapsed": true
   },
   "outputs": [],
   "source": []
  }
 ],
 "metadata": {
  "kernelspec": {
   "display_name": "Python 2",
   "language": "python",
   "name": "python2"
  },
  "language_info": {
   "codemirror_mode": {
    "name": "ipython",
    "version": 2
   },
   "file_extension": ".py",
   "mimetype": "text/x-python",
   "name": "python",
   "nbconvert_exporter": "python",
   "pygments_lexer": "ipython2",
   "version": "2.7.6"
  }
 },
 "nbformat": 4,
 "nbformat_minor": 0
}
