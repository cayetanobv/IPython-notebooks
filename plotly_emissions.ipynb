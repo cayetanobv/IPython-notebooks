{
 "cells": [
  {
   "cell_type": "markdown",
   "metadata": {},
   "source": [
    "# CO2 emissions. Examples with Pandas+Plotly\n",
    "data source: United Nations, 2016."
   ]
  },
  {
   "cell_type": "code",
   "execution_count": 2,
   "metadata": {
    "collapsed": true
   },
   "outputs": [],
   "source": [
    "import pandas as pd"
   ]
  },
  {
   "cell_type": "code",
   "execution_count": 3,
   "metadata": {
    "collapsed": true
   },
   "outputs": [],
   "source": [
    "from config import cfgInfo"
   ]
  },
  {
   "cell_type": "code",
   "execution_count": 4,
   "metadata": {
    "collapsed": true
   },
   "outputs": [],
   "source": [
    "data = \"data/undata_emisspcap.csv\""
   ]
  },
  {
   "cell_type": "code",
   "execution_count": 5,
   "metadata": {
    "collapsed": true
   },
   "outputs": [],
   "source": [
    "df = pd.read_csv(data)"
   ]
  },
  {
   "cell_type": "code",
   "execution_count": 6,
   "metadata": {
    "collapsed": false
   },
   "outputs": [
    {
     "data": {
      "text/html": [
       "<div>\n",
       "<table border=\"1\" class=\"dataframe\">\n",
       "  <thead>\n",
       "    <tr style=\"text-align: right;\">\n",
       "      <th></th>\n",
       "      <th>Indicator Code</th>\n",
       "      <th>Country or Area Code</th>\n",
       "      <th>Country or Area</th>\n",
       "      <th>Time Code</th>\n",
       "      <th>Year</th>\n",
       "      <th>Value</th>\n",
       "      <th>Value Footnotes</th>\n",
       "    </tr>\n",
       "  </thead>\n",
       "  <tbody>\n",
       "    <tr>\n",
       "      <th>0</th>\n",
       "      <td>EN.ATM.CO2E.PC</td>\n",
       "      <td>AFG</td>\n",
       "      <td>Afghanistan</td>\n",
       "      <td>YR2011</td>\n",
       "      <td>2011</td>\n",
       "      <td>0.425262</td>\n",
       "      <td>NaN</td>\n",
       "    </tr>\n",
       "    <tr>\n",
       "      <th>1</th>\n",
       "      <td>EN.ATM.CO2E.PC</td>\n",
       "      <td>AFG</td>\n",
       "      <td>Afghanistan</td>\n",
       "      <td>YR2010</td>\n",
       "      <td>2010</td>\n",
       "      <td>0.302936</td>\n",
       "      <td>NaN</td>\n",
       "    </tr>\n",
       "    <tr>\n",
       "      <th>2</th>\n",
       "      <td>EN.ATM.CO2E.PC</td>\n",
       "      <td>AFG</td>\n",
       "      <td>Afghanistan</td>\n",
       "      <td>YR2009</td>\n",
       "      <td>2009</td>\n",
       "      <td>0.249074</td>\n",
       "      <td>NaN</td>\n",
       "    </tr>\n",
       "    <tr>\n",
       "      <th>3</th>\n",
       "      <td>EN.ATM.CO2E.PC</td>\n",
       "      <td>AFG</td>\n",
       "      <td>Afghanistan</td>\n",
       "      <td>YR2008</td>\n",
       "      <td>2008</td>\n",
       "      <td>0.158962</td>\n",
       "      <td>NaN</td>\n",
       "    </tr>\n",
       "    <tr>\n",
       "      <th>4</th>\n",
       "      <td>EN.ATM.CO2E.PC</td>\n",
       "      <td>AFG</td>\n",
       "      <td>Afghanistan</td>\n",
       "      <td>YR2007</td>\n",
       "      <td>2007</td>\n",
       "      <td>0.088141</td>\n",
       "      <td>NaN</td>\n",
       "    </tr>\n",
       "  </tbody>\n",
       "</table>\n",
       "</div>"
      ],
      "text/plain": [
       "   Indicator Code Country or Area Code Country or Area Time Code  Year  \\\n",
       "0  EN.ATM.CO2E.PC                  AFG     Afghanistan    YR2011  2011   \n",
       "1  EN.ATM.CO2E.PC                  AFG     Afghanistan    YR2010  2010   \n",
       "2  EN.ATM.CO2E.PC                  AFG     Afghanistan    YR2009  2009   \n",
       "3  EN.ATM.CO2E.PC                  AFG     Afghanistan    YR2008  2008   \n",
       "4  EN.ATM.CO2E.PC                  AFG     Afghanistan    YR2007  2007   \n",
       "\n",
       "      Value  Value Footnotes  \n",
       "0  0.425262              NaN  \n",
       "1  0.302936              NaN  \n",
       "2  0.249074              NaN  \n",
       "3  0.158962              NaN  \n",
       "4  0.088141              NaN  "
      ]
     },
     "execution_count": 6,
     "metadata": {},
     "output_type": "execute_result"
    }
   ],
   "source": [
    "df.head()"
   ]
  },
  {
   "cell_type": "code",
   "execution_count": 7,
   "metadata": {
    "collapsed": false
   },
   "outputs": [
    {
     "data": {
      "text/plain": [
       "Indicator Code          10571\n",
       "Country or Area Code    10571\n",
       "Country or Area         10571\n",
       "Time Code               10571\n",
       "Year                    10571\n",
       "Value                   10571\n",
       "Value Footnotes             0\n",
       "dtype: int64"
      ]
     },
     "execution_count": 7,
     "metadata": {},
     "output_type": "execute_result"
    }
   ],
   "source": [
    "df.count()"
   ]
  },
  {
   "cell_type": "code",
   "execution_count": 8,
   "metadata": {
    "collapsed": true
   },
   "outputs": [],
   "source": [
    "import plotly.plotly as py\n",
    "import plotly.graph_objs as go\n",
    "import plotly.tools as tls"
   ]
  },
  {
   "cell_type": "code",
   "execution_count": 9,
   "metadata": {
    "collapsed": true
   },
   "outputs": [],
   "source": [
    "ply_apikey = cfgInfo.get(\"ply_apikey\")"
   ]
  },
  {
   "cell_type": "code",
   "execution_count": 10,
   "metadata": {
    "collapsed": true
   },
   "outputs": [],
   "source": [
    "ply_user = cfgInfo.get(\"ply_user\")"
   ]
  },
  {
   "cell_type": "code",
   "execution_count": 11,
   "metadata": {
    "collapsed": true
   },
   "outputs": [],
   "source": [
    "py.sign_in(ply_user, ply_apikey)"
   ]
  },
  {
   "cell_type": "code",
   "execution_count": 12,
   "metadata": {
    "collapsed": false
   },
   "outputs": [],
   "source": [
    "chn = df[df['Country or Area Code'] == 'CHN']"
   ]
  },
  {
   "cell_type": "code",
   "execution_count": 13,
   "metadata": {
    "collapsed": false
   },
   "outputs": [
    {
     "data": {
      "text/html": [
       "<div>\n",
       "<table border=\"1\" class=\"dataframe\">\n",
       "  <thead>\n",
       "    <tr style=\"text-align: right;\">\n",
       "      <th></th>\n",
       "      <th>Indicator Code</th>\n",
       "      <th>Country or Area Code</th>\n",
       "      <th>Country or Area</th>\n",
       "      <th>Time Code</th>\n",
       "      <th>Year</th>\n",
       "      <th>Value</th>\n",
       "      <th>Value Footnotes</th>\n",
       "    </tr>\n",
       "  </thead>\n",
       "  <tbody>\n",
       "    <tr>\n",
       "      <th>1855</th>\n",
       "      <td>EN.ATM.CO2E.PC</td>\n",
       "      <td>CHN</td>\n",
       "      <td>China</td>\n",
       "      <td>YR2011</td>\n",
       "      <td>2011</td>\n",
       "      <td>6.710302</td>\n",
       "      <td>NaN</td>\n",
       "    </tr>\n",
       "    <tr>\n",
       "      <th>1856</th>\n",
       "      <td>EN.ATM.CO2E.PC</td>\n",
       "      <td>CHN</td>\n",
       "      <td>China</td>\n",
       "      <td>YR2010</td>\n",
       "      <td>2010</td>\n",
       "      <td>6.172489</td>\n",
       "      <td>NaN</td>\n",
       "    </tr>\n",
       "    <tr>\n",
       "      <th>1857</th>\n",
       "      <td>EN.ATM.CO2E.PC</td>\n",
       "      <td>CHN</td>\n",
       "      <td>China</td>\n",
       "      <td>YR2009</td>\n",
       "      <td>2009</td>\n",
       "      <td>5.778143</td>\n",
       "      <td>NaN</td>\n",
       "    </tr>\n",
       "    <tr>\n",
       "      <th>1858</th>\n",
       "      <td>EN.ATM.CO2E.PC</td>\n",
       "      <td>CHN</td>\n",
       "      <td>China</td>\n",
       "      <td>YR2008</td>\n",
       "      <td>2008</td>\n",
       "      <td>5.311152</td>\n",
       "      <td>NaN</td>\n",
       "    </tr>\n",
       "    <tr>\n",
       "      <th>1859</th>\n",
       "      <td>EN.ATM.CO2E.PC</td>\n",
       "      <td>CHN</td>\n",
       "      <td>China</td>\n",
       "      <td>YR2007</td>\n",
       "      <td>2007</td>\n",
       "      <td>5.153564</td>\n",
       "      <td>NaN</td>\n",
       "    </tr>\n",
       "  </tbody>\n",
       "</table>\n",
       "</div>"
      ],
      "text/plain": [
       "      Indicator Code Country or Area Code Country or Area Time Code  Year  \\\n",
       "1855  EN.ATM.CO2E.PC                  CHN           China    YR2011  2011   \n",
       "1856  EN.ATM.CO2E.PC                  CHN           China    YR2010  2010   \n",
       "1857  EN.ATM.CO2E.PC                  CHN           China    YR2009  2009   \n",
       "1858  EN.ATM.CO2E.PC                  CHN           China    YR2008  2008   \n",
       "1859  EN.ATM.CO2E.PC                  CHN           China    YR2007  2007   \n",
       "\n",
       "         Value  Value Footnotes  \n",
       "1855  6.710302              NaN  \n",
       "1856  6.172489              NaN  \n",
       "1857  5.778143              NaN  \n",
       "1858  5.311152              NaN  \n",
       "1859  5.153564              NaN  "
      ]
     },
     "execution_count": 13,
     "metadata": {},
     "output_type": "execute_result"
    }
   ],
   "source": [
    "chn.head()"
   ]
  },
  {
   "cell_type": "code",
   "execution_count": 14,
   "metadata": {
    "collapsed": false
   },
   "outputs": [],
   "source": [
    "data = [go.Bar(x=chn['Year'], y=chn['Value'])]"
   ]
  },
  {
   "cell_type": "code",
   "execution_count": 21,
   "metadata": {
    "collapsed": false
   },
   "outputs": [],
   "source": [
    "layout = go.Layout(\n",
    "    title='China CO<sub>2</sub> emissions',\n",
    "    xaxis=dict(\n",
    "        title='',\n",
    "        titlefont=dict(\n",
    "            family='Arial, monospace',\n",
    "            size=18,\n",
    "            color='#7f7f7f'\n",
    "        )\n",
    "    ),\n",
    "    yaxis=dict(\n",
    "        title='metric tons per capita',\n",
    "        titlefont=dict(\n",
    "            family='Arial, monospace',\n",
    "            size=14,\n",
    "            color='#7f7f7f'\n",
    "        )\n",
    "    )\n",
    ")"
   ]
  },
  {
   "cell_type": "code",
   "execution_count": 22,
   "metadata": {
    "collapsed": true
   },
   "outputs": [],
   "source": [
    "fig = go.Figure(data=data, layout=layout)"
   ]
  },
  {
   "cell_type": "code",
   "execution_count": 23,
   "metadata": {
    "collapsed": false
   },
   "outputs": [],
   "source": [
    "ply_url = py.plot(fig, filename='emissionspercap-bar-chart', layout=layout)"
   ]
  },
  {
   "cell_type": "code",
   "execution_count": 24,
   "metadata": {
    "collapsed": false,
    "scrolled": false
   },
   "outputs": [
    {
     "data": {
      "text/html": [
       "<iframe id=\"igraph\" scrolling=\"no\" style=\"border:none;\"seamless=\"seamless\" src=\"https://plot.ly/~cayetanobv/2.embed\" height=\"525\" width=\"100%\"></iframe>"
      ],
      "text/plain": [
       "<plotly.tools.PlotlyDisplay object>"
      ]
     },
     "execution_count": 24,
     "metadata": {},
     "output_type": "execute_result"
    }
   ],
   "source": [
    "tls.embed(ply_url)"
   ]
  },
  {
   "cell_type": "code",
   "execution_count": 25,
   "metadata": {
    "collapsed": false
   },
   "outputs": [],
   "source": [
    "usa = df[df['Country or Area Code'] == 'USA']"
   ]
  },
  {
   "cell_type": "code",
   "execution_count": 26,
   "metadata": {
    "collapsed": false
   },
   "outputs": [
    {
     "data": {
      "text/html": [
       "<div>\n",
       "<table border=\"1\" class=\"dataframe\">\n",
       "  <thead>\n",
       "    <tr style=\"text-align: right;\">\n",
       "      <th></th>\n",
       "      <th>Indicator Code</th>\n",
       "      <th>Country or Area Code</th>\n",
       "      <th>Country or Area</th>\n",
       "      <th>Time Code</th>\n",
       "      <th>Year</th>\n",
       "      <th>Value</th>\n",
       "      <th>Value Footnotes</th>\n",
       "    </tr>\n",
       "  </thead>\n",
       "  <tbody>\n",
       "    <tr>\n",
       "      <th>10026</th>\n",
       "      <td>EN.ATM.CO2E.PC</td>\n",
       "      <td>USA</td>\n",
       "      <td>United States</td>\n",
       "      <td>YR2011</td>\n",
       "      <td>2011</td>\n",
       "      <td>17.020216</td>\n",
       "      <td>NaN</td>\n",
       "    </tr>\n",
       "    <tr>\n",
       "      <th>10027</th>\n",
       "      <td>EN.ATM.CO2E.PC</td>\n",
       "      <td>USA</td>\n",
       "      <td>United States</td>\n",
       "      <td>YR2010</td>\n",
       "      <td>2010</td>\n",
       "      <td>17.484792</td>\n",
       "      <td>NaN</td>\n",
       "    </tr>\n",
       "    <tr>\n",
       "      <th>10028</th>\n",
       "      <td>EN.ATM.CO2E.PC</td>\n",
       "      <td>USA</td>\n",
       "      <td>United States</td>\n",
       "      <td>YR2009</td>\n",
       "      <td>2009</td>\n",
       "      <td>17.192379</td>\n",
       "      <td>NaN</td>\n",
       "    </tr>\n",
       "    <tr>\n",
       "      <th>10029</th>\n",
       "      <td>EN.ATM.CO2E.PC</td>\n",
       "      <td>USA</td>\n",
       "      <td>United States</td>\n",
       "      <td>YR2008</td>\n",
       "      <td>2008</td>\n",
       "      <td>18.489234</td>\n",
       "      <td>NaN</td>\n",
       "    </tr>\n",
       "    <tr>\n",
       "      <th>10030</th>\n",
       "      <td>EN.ATM.CO2E.PC</td>\n",
       "      <td>USA</td>\n",
       "      <td>United States</td>\n",
       "      <td>YR2007</td>\n",
       "      <td>2007</td>\n",
       "      <td>19.237460</td>\n",
       "      <td>NaN</td>\n",
       "    </tr>\n",
       "  </tbody>\n",
       "</table>\n",
       "</div>"
      ],
      "text/plain": [
       "       Indicator Code Country or Area Code Country or Area Time Code  Year  \\\n",
       "10026  EN.ATM.CO2E.PC                  USA   United States    YR2011  2011   \n",
       "10027  EN.ATM.CO2E.PC                  USA   United States    YR2010  2010   \n",
       "10028  EN.ATM.CO2E.PC                  USA   United States    YR2009  2009   \n",
       "10029  EN.ATM.CO2E.PC                  USA   United States    YR2008  2008   \n",
       "10030  EN.ATM.CO2E.PC                  USA   United States    YR2007  2007   \n",
       "\n",
       "           Value  Value Footnotes  \n",
       "10026  17.020216              NaN  \n",
       "10027  17.484792              NaN  \n",
       "10028  17.192379              NaN  \n",
       "10029  18.489234              NaN  \n",
       "10030  19.237460              NaN  "
      ]
     },
     "execution_count": 26,
     "metadata": {},
     "output_type": "execute_result"
    }
   ],
   "source": [
    "usa.head()"
   ]
  },
  {
   "cell_type": "code",
   "execution_count": 27,
   "metadata": {
    "collapsed": true
   },
   "outputs": [],
   "source": [
    "esp = df[df['Country or Area Code'] == 'ESP']"
   ]
  },
  {
   "cell_type": "code",
   "execution_count": 28,
   "metadata": {
    "collapsed": false
   },
   "outputs": [
    {
     "data": {
      "text/html": [
       "<div>\n",
       "<table border=\"1\" class=\"dataframe\">\n",
       "  <thead>\n",
       "    <tr style=\"text-align: right;\">\n",
       "      <th></th>\n",
       "      <th>Indicator Code</th>\n",
       "      <th>Country or Area Code</th>\n",
       "      <th>Country or Area</th>\n",
       "      <th>Time Code</th>\n",
       "      <th>Year</th>\n",
       "      <th>Value</th>\n",
       "      <th>Value Footnotes</th>\n",
       "    </tr>\n",
       "  </thead>\n",
       "  <tbody>\n",
       "    <tr>\n",
       "      <th>8745</th>\n",
       "      <td>EN.ATM.CO2E.PC</td>\n",
       "      <td>ESP</td>\n",
       "      <td>Spain</td>\n",
       "      <td>YR2011</td>\n",
       "      <td>2011</td>\n",
       "      <td>5.790764</td>\n",
       "      <td>NaN</td>\n",
       "    </tr>\n",
       "    <tr>\n",
       "      <th>8746</th>\n",
       "      <td>EN.ATM.CO2E.PC</td>\n",
       "      <td>ESP</td>\n",
       "      <td>Spain</td>\n",
       "      <td>YR2010</td>\n",
       "      <td>2010</td>\n",
       "      <td>5.815787</td>\n",
       "      <td>NaN</td>\n",
       "    </tr>\n",
       "    <tr>\n",
       "      <th>8747</th>\n",
       "      <td>EN.ATM.CO2E.PC</td>\n",
       "      <td>ESP</td>\n",
       "      <td>Spain</td>\n",
       "      <td>YR2009</td>\n",
       "      <td>2009</td>\n",
       "      <td>6.216973</td>\n",
       "      <td>NaN</td>\n",
       "    </tr>\n",
       "    <tr>\n",
       "      <th>8748</th>\n",
       "      <td>EN.ATM.CO2E.PC</td>\n",
       "      <td>ESP</td>\n",
       "      <td>Spain</td>\n",
       "      <td>YR2008</td>\n",
       "      <td>2008</td>\n",
       "      <td>7.165452</td>\n",
       "      <td>NaN</td>\n",
       "    </tr>\n",
       "    <tr>\n",
       "      <th>8749</th>\n",
       "      <td>EN.ATM.CO2E.PC</td>\n",
       "      <td>ESP</td>\n",
       "      <td>Spain</td>\n",
       "      <td>YR2007</td>\n",
       "      <td>2007</td>\n",
       "      <td>7.920891</td>\n",
       "      <td>NaN</td>\n",
       "    </tr>\n",
       "  </tbody>\n",
       "</table>\n",
       "</div>"
      ],
      "text/plain": [
       "      Indicator Code Country or Area Code Country or Area Time Code  Year  \\\n",
       "8745  EN.ATM.CO2E.PC                  ESP           Spain    YR2011  2011   \n",
       "8746  EN.ATM.CO2E.PC                  ESP           Spain    YR2010  2010   \n",
       "8747  EN.ATM.CO2E.PC                  ESP           Spain    YR2009  2009   \n",
       "8748  EN.ATM.CO2E.PC                  ESP           Spain    YR2008  2008   \n",
       "8749  EN.ATM.CO2E.PC                  ESP           Spain    YR2007  2007   \n",
       "\n",
       "         Value  Value Footnotes  \n",
       "8745  5.790764              NaN  \n",
       "8746  5.815787              NaN  \n",
       "8747  6.216973              NaN  \n",
       "8748  7.165452              NaN  \n",
       "8749  7.920891              NaN  "
      ]
     },
     "execution_count": 28,
     "metadata": {},
     "output_type": "execute_result"
    }
   ],
   "source": [
    "esp.head()"
   ]
  },
  {
   "cell_type": "code",
   "execution_count": 29,
   "metadata": {
    "collapsed": false
   },
   "outputs": [],
   "source": [
    "trc_chn = go.Scatter(x=chn['Year'], \n",
    "                     y=chn['Value'],\n",
    "                     mode = 'lines+markers',\n",
    "                     name = 'China'\n",
    "                    )"
   ]
  },
  {
   "cell_type": "code",
   "execution_count": 30,
   "metadata": {
    "collapsed": true
   },
   "outputs": [],
   "source": [
    "trc_usa = go.Scatter(x=usa['Year'], \n",
    "                     y=usa['Value'],\n",
    "                     mode = 'lines+markers',\n",
    "                     name = 'USA'\n",
    "                    )"
   ]
  },
  {
   "cell_type": "code",
   "execution_count": 31,
   "metadata": {
    "collapsed": true
   },
   "outputs": [],
   "source": [
    "trc_esp = go.Scatter(x=esp['Year'], \n",
    "                     y=esp['Value'],\n",
    "                     mode = 'lines+markers',\n",
    "                     name = 'Spain'\n",
    "                    )"
   ]
  },
  {
   "cell_type": "code",
   "execution_count": 32,
   "metadata": {
    "collapsed": false
   },
   "outputs": [],
   "source": [
    "data_2c = [trc_chn, trc_usa, trc_esp]"
   ]
  },
  {
   "cell_type": "code",
   "execution_count": 33,
   "metadata": {
    "collapsed": true
   },
   "outputs": [],
   "source": [
    "layout_2c = go.Layout(\n",
    "    title='CO<sub>2</sub> emissions',\n",
    "    xaxis=dict(\n",
    "        title='',\n",
    "        titlefont=dict(\n",
    "            family='Arial, monospace',\n",
    "            size=18,\n",
    "            color='#7f7f7f'\n",
    "        )\n",
    "    ),\n",
    "    yaxis=dict(\n",
    "        title='metric tons per capita',\n",
    "        titlefont=dict(\n",
    "            family='Arial, monospace',\n",
    "            size=14,\n",
    "            color='#7f7f7f'\n",
    "        )\n",
    "    )\n",
    ")"
   ]
  },
  {
   "cell_type": "code",
   "execution_count": 34,
   "metadata": {
    "collapsed": true
   },
   "outputs": [],
   "source": [
    "fig_2c = go.Figure(data=data_2c, layout=layout_2c)"
   ]
  },
  {
   "cell_type": "code",
   "execution_count": 35,
   "metadata": {
    "collapsed": false
   },
   "outputs": [],
   "source": [
    "ply_url_2c = py.plot(fig_2c, filename='emissionspercap-2c-bar-chart')"
   ]
  },
  {
   "cell_type": "code",
   "execution_count": 36,
   "metadata": {
    "collapsed": false
   },
   "outputs": [
    {
     "data": {
      "text/html": [
       "<iframe id=\"igraph\" scrolling=\"no\" style=\"border:none;\"seamless=\"seamless\" src=\"https://plot.ly/~cayetanobv/4.embed\" height=\"525\" width=\"100%\"></iframe>"
      ],
      "text/plain": [
       "<plotly.tools.PlotlyDisplay object>"
      ]
     },
     "execution_count": 36,
     "metadata": {},
     "output_type": "execute_result"
    }
   ],
   "source": [
    "tls.embed(ply_url_2c)"
   ]
  }
 ],
 "metadata": {
  "kernelspec": {
   "display_name": "Python 2",
   "language": "python",
   "name": "python2"
  },
  "language_info": {
   "codemirror_mode": {
    "name": "ipython",
    "version": 2
   },
   "file_extension": ".py",
   "mimetype": "text/x-python",
   "name": "python",
   "nbconvert_exporter": "python",
   "pygments_lexer": "ipython2",
   "version": "2.7.6"
  }
 },
 "nbformat": 4,
 "nbformat_minor": 0
}
